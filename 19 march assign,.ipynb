{
 "cells": [
  {
   "cell_type": "code",
   "execution_count": null,
   "id": "a93b4109-2385-45b5-b152-63b2386bbd2b",
   "metadata": {},
   "outputs": [],
   "source": [
    "Min-Max scaling is a data preprocessing technique used to normalize the values of a given dataset. It transforms the values of the dataset so that they are in the range of 0 to 1. This is done by subtracting the minimum value from each value in the dataset and then dividing it by the difference between the maximum and minimum value.\n",
    "\n",
    "\n",
    "For example, if we have a dataset with values ranging from 0 to 10, we can use Min-Max scaling to transform them into a range of 0 to 1. To do this, we would subtract 0 (the minimum value) from each value in the dataset and then divide it by 10 (the difference between the maximum and minimum value). This would result in a dataset with values ranging from 0 to 1."
   ]
  },
  {
   "cell_type": "code",
   "execution_count": null,
   "id": "54b386f0-bbd7-42ee-b358-deac384f84cc",
   "metadata": {},
   "outputs": [],
   "source": [
    "Unit Vector technique, also known as normalization, is a feature scaling technique that transforms each feature vector into a unit vector. This is done by dividing each feature vector by its magnitude, which is the Euclidean distance between the origin and the point. This technique is different from Min-Max scaling because it does not have a fixed range of values. Instead, it normalizes the data so that each feature vector has a magnitude of 1.\n",
    "\n",
    "\n",
    "For example, consider a dataset with two features, x1 and x2. The Unit Vector technique would transform the data as follows:\n",
    "\n",
    "\n",
    "x1 = (x1 / sqrt(x1^2 + x2^2))\n",
    "\n",
    "\n",
    "x2 = (x2 / sqrt(x1^2 + x2^2))\n",
    "\n",
    "\n",
    "In this example, each feature vector is divided by its magnitude, which is the Euclidean distance between the origin and the point. This results in a unit vector with a magnitude of 1."
   ]
  },
  {
   "cell_type": "code",
   "execution_count": null,
   "id": "1a47fb1b-0217-40a0-a001-09de0f2e63d4",
   "metadata": {},
   "outputs": [],
   "source": [
    "Principle Component Analysis (PCA) is a technique used in dimensionality reduction that transforms a set of correlated variables into a set of uncorrelated variables called principal components. It is used to reduce the number of variables in a dataset while retaining as much of the original information as possible.\n",
    "\n",
    "\n",
    "For example, imagine you have a dataset with five variables (X1, X2, X3, X4, and X5). Using PCA, you can reduce this dataset down to two principal components (PC1 and PC2) that contain most of the information from the original five variables. This allows you to reduce the complexity of the dataset and make it easier to analyze."
   ]
  },
  {
   "cell_type": "code",
   "execution_count": null,
   "id": "75e77d4f-fd46-473f-9053-aa7611f7edaf",
   "metadata": {},
   "outputs": [],
   "source": [
    "Min-Max scaling is a type of feature scaling that transforms the values of a given dataset into a range between 0 and 1. This is done by subtracting the minimum value from each data point and then dividing by the difference between the maximum and minimum values. This type of scaling is useful for datasets with different scales, as it ensures that all features are treated equally.\n",
    "\n",
    "\n",
    "In this case, Min-Max scaling could be used to preprocess the data by transforming the price, rating, and delivery time features into a range between 0 and 1. This would allow for more accurate comparison between the different features, as all features would be on the same scale."
   ]
  },
  {
   "cell_type": "code",
   "execution_count": null,
   "id": "0ee2d6eb-0073-4aba-a75e-5a00c879ef25",
   "metadata": {},
   "outputs": [],
   "source": [
    "Principal Component Analysis (PCA) is a dimensionality reduction technique that can be used to reduce the number of features in a dataset while preserving the most important information. PCA works by transforming the original dataset into a new set of variables called principal components, which are linear combinations of the original variables. The principal components are ordered so that the first few components contain the most important information, while the remaining components contain less important information. By selecting only the first few principal components, we can reduce the dimensionality of the dataset while preserving the most important information."
   ]
  },
  {
   "cell_type": "code",
   "execution_count": null,
   "id": "dd054b96-ee3d-41a3-82bd-b76bb11c61f0",
   "metadata": {},
   "outputs": [],
   "source": [
    "To perform Min-Max scaling on the given dataset to transform the values to a range of -1 to 1, we can use the following formula:\n",
    "\n",
    "\n",
    "X_scaled = (X - X_min) / (X_max - X_min) * (max_range - min_range) + min_range\n",
    "\n",
    "\n",
    "Here, X is the original value, X_min and X_max are the minimum and maximum values in the dataset, and max_range and min_range are the desired maximum and minimum values of the scaled range (-1 and 1 in this case).\n",
    "\n",
    "\n",
    "So, applying this formula to each value in the dataset, we get:\n",
    "\n",
    "\n",
    "1: (-1 - 1) / (20 - 1) * (1 - (-1)) + (-1) = -0.9\n",
    "\n",
    "5: (-5 - 1) / (20 - 1) * (1 - (-1)) + (-1) = -0.5\n",
    "\n",
    "10: (0 - 1) / (20 - 1) * (1 - (-1)) + (-1) = -0.2\n",
    "\n",
    "15: (5 - 1) / (20 - 1) * (1 - (-1)) + (-1) = 0.2\n",
    "\n",
    "20: (10 - 1) / (20 - 1) * (1 - (-1)) + (-1) = 0.9\n",
    "\n",
    "\n",
    "Therefore, after Min-Max scaling, the dataset will be transformed to:\n",
    "\n",
    "\n",
    "-0.9, -0.5, -0.2, 0.2, 0.9"
   ]
  }
 ],
 "metadata": {
  "kernelspec": {
   "display_name": "Python 3 (ipykernel)",
   "language": "python",
   "name": "python3"
  },
  "language_info": {
   "codemirror_mode": {
    "name": "ipython",
    "version": 3
   },
   "file_extension": ".py",
   "mimetype": "text/x-python",
   "name": "python",
   "nbconvert_exporter": "python",
   "pygments_lexer": "ipython3",
   "version": "3.10.8"
  }
 },
 "nbformat": 4,
 "nbformat_minor": 5
}
